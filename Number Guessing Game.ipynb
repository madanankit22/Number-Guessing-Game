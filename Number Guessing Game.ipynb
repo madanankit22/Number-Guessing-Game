{
 "cells": [
  {
   "cell_type": "code",
   "execution_count": 10,
   "metadata": {},
   "outputs": [],
   "source": [
    "# Number Guessing Game\n",
    "\n",
    "\n",
    "#Number Guessing Game Objectives:\n",
    "\n",
    "# Include an ASCII art logo.\n",
    "# Allow the player to submit a guess for a number between 1 and 100.\n",
    "# Check user's guess against actual answer. Print \"Too high.\" or \"Too low.\" depending on the user's answer. \n",
    "# If they got the answer correct, show the actual answer to the player.\n",
    "# Track the number of turns remaining.\n",
    "# If they run out of turns, provide feedback to the player. \n",
    "# Include two different difficulty levels (e.g., 10 guesses in easy mode, only 5 guesses in hard mode)."
   ]
  },
  {
   "cell_type": "code",
   "execution_count": 11,
   "metadata": {},
   "outputs": [],
   "source": [
    "logo = \"\"\"\n",
    "  / _ \\_   _  ___  ___ ___  /__   \\ |__   ___    /\\ \\ \\_   _ _ __ ___ | |__   ___ _ __ \n",
    " / /_\\/ | | |/ _ \\/ __/ __|   / /\\/ '_ \\ / _ \\  /  \\/ / | | | '_ ` _ \\| '_ \\ / _ \\ '__|\n",
    "/ /_\\\\| |_| |  __/\\__ \\__ \\  / /  | | | |  __/ / /\\  /| |_| | | | | | | |_) |  __/ |   \n",
    "\\____/ \\__,_|\\___||___/___/  \\/   |_| |_|\\___| \\_\\ \\/  \\__,_|_| |_| |_|_.__/ \\___|_|  \n",
    "\"\"\""
   ]
  },
  {
   "cell_type": "code",
   "execution_count": 14,
   "metadata": {},
   "outputs": [
    {
     "name": "stdout",
     "output_type": "stream",
     "text": [
      "\n",
      "  / _ \\_   _  ___  ___ ___  /__   \\ |__   ___    /\\ \\ \\_   _ _ __ ___ | |__   ___ _ __ \n",
      " / /_\\/ | | |/ _ \\/ __/ __|   / /\\/ '_ \\ / _ \\  /  \\/ / | | | '_ ` _ \\| '_ \\ / _ \\ '__|\n",
      "/ /_\\| |_| |  __/\\__ \\__ \\  / /  | | | |  __/ / /\\  /| |_| | | | | | | |_) |  __/ |   \n",
      "\\____/ \\__,_|\\___||___/___/  \\/   |_| |_|\\___| \\_\\ \\/  \\__,_|_| |_| |_|_.__/ \\___|_|  \n",
      "\n",
      "Welcome to the Number Guessing Game!\n",
      "I'm thinking of a number between 1 and 100.\n",
      "Choose a difficulty level- easy,medium or hard: easy\n",
      "You have 10 attempts remaining to guess the number.\n",
      "Make a guess58\n",
      "Too low.\n",
      "Guess Again\n",
      "You have 9 attempts remaining to guess the number.\n",
      "Make a guess68\n",
      "Too high.\n",
      "Guess Again\n",
      "You have 8 attempts remaining to guess the number.\n",
      "Make a guess60\n",
      "Too low.\n",
      "Guess Again\n",
      "You have 7 attempts remaining to guess the number.\n",
      "Make a guess63\n",
      "Too high.\n",
      "Guess Again\n",
      "You have 6 attempts remaining to guess the number.\n",
      "Make a guess62\n",
      "You got it! The answer was 62.\n"
     ]
    }
   ],
   "source": [
    "from random import randint\n",
    "EASY_LEVEL_TURNS = 10\n",
    "MEDIUM_LEVEL_TURNS=5\n",
    "HARD_LEVEL_TURNS=3\n",
    "\n",
    "def check_answer(guess, answer,turns):\n",
    "  \"\"\"checks answer against guess. Returns the number of turns remaining.\"\"\"\n",
    "  if guess > answer:\n",
    "    print(\"Too high.\")\n",
    "    return turns - 1\n",
    "  elif guess < answer:\n",
    "    print(\"Too low.\")\n",
    "    return turns - 1\n",
    "  else:\n",
    "    print(f\"You got it! The answer was {answer}.\")\n",
    "        \n",
    "\n",
    "\n",
    "\n",
    "\n",
    "def set_difficulty():\n",
    "    level=input(\"Choose a difficulty level- easy,medium or hard: \")\n",
    "    if level==\"easy\":\n",
    "        return EASY_LEVEL_TURNS\n",
    "    elif level==\"medium\":\n",
    "        return MEDIUM_LEVEL_TURNS\n",
    "    elif level==\"hard\":\n",
    "        return HARD_LEVEL_TURNS\n",
    "    else:\n",
    "        return \"Please choose correct option\"\n",
    "    \n",
    "\n",
    "def game():\n",
    "    print(logo)\n",
    "    print(\"Welcome to the Number Guessing Game!\")\n",
    "    print(\"I'm thinking of a number between 1 and 100.\")\n",
    "    answer = randint(1, 100)\n",
    "\n",
    "    turns=set_difficulty()\n",
    "    guess=0\n",
    "    while guess!=answer:\n",
    "        print(f\"You have {turns} attempts remaining to guess the number.\")\n",
    "        guess=int(input(\"Make a guess\"))\n",
    "        turns=check_answer(guess,answer,turns)\n",
    "        if turns==0:\n",
    "            print(\"You've run out of guesses, you lose.\")\n",
    "            break\n",
    "        elif guess!=answer:\n",
    "            print(\"Guess Again\")\n",
    "        \n",
    "\n",
    "\n",
    "\n",
    "    \n",
    "\n",
    "\n",
    "\n",
    "game()"
   ]
  },
  {
   "cell_type": "code",
   "execution_count": null,
   "metadata": {},
   "outputs": [],
   "source": []
  },
  {
   "cell_type": "code",
   "execution_count": null,
   "metadata": {},
   "outputs": [],
   "source": []
  },
  {
   "cell_type": "code",
   "execution_count": null,
   "metadata": {},
   "outputs": [],
   "source": []
  },
  {
   "cell_type": "code",
   "execution_count": null,
   "metadata": {},
   "outputs": [],
   "source": []
  },
  {
   "cell_type": "code",
   "execution_count": null,
   "metadata": {},
   "outputs": [],
   "source": []
  }
 ],
 "metadata": {
  "kernelspec": {
   "display_name": "Python 3",
   "language": "python",
   "name": "python3"
  },
  "language_info": {
   "codemirror_mode": {
    "name": "ipython",
    "version": 3
   },
   "file_extension": ".py",
   "mimetype": "text/x-python",
   "name": "python",
   "nbconvert_exporter": "python",
   "pygments_lexer": "ipython3",
   "version": "3.8.5"
  }
 },
 "nbformat": 4,
 "nbformat_minor": 4
}
